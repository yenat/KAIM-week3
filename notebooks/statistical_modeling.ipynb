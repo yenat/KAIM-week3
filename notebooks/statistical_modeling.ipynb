{
 "cells": [
  {
   "cell_type": "code",
   "execution_count": 27,
   "metadata": {},
   "outputs": [],
   "source": [
    "# Import necessary libraries\n",
    "import pandas as pd\n",
    "import numpy as np\n",
    "from sklearn.impute import SimpleImputer\n",
    "from sklearn.model_selection import train_test_split\n",
    "from sklearn.linear_model import LinearRegression\n",
    "from sklearn.tree import DecisionTreeRegressor\n",
    "from sklearn.ensemble import RandomForestRegressor\n",
    "import xgboost as xgb\n",
    "from sklearn.metrics import mean_squared_error, r2_score\n",
    "import shap\n"
   ]
  },
  {
   "cell_type": "code",
   "execution_count": 28,
   "metadata": {},
   "outputs": [
    {
     "name": "stderr",
     "output_type": "stream",
     "text": [
      "/home/enat/.local/lib/python3.10/site-packages/IPython/core/interactiveshell.py:3577: DtypeWarning: Columns (32,37) have mixed types.Specify dtype option on import or set low_memory=False.\n",
      "  exec(code_obj, self.user_global_ns, self.user_ns)\n"
     ]
    },
    {
     "name": "stdout",
     "output_type": "stream",
     "text": [
      "UnderwrittenCoverID              0\n",
      "PolicyID                         0\n",
      "TransactionMonth                 0\n",
      "IsVATRegistered                  0\n",
      "Citizenship                      0\n",
      "LegalType                        0\n",
      "Title                            0\n",
      "Language                         0\n",
      "Bank                          4051\n",
      "AccountType                   4051\n",
      "MaritalStatus                    0\n",
      "Gender                           0\n",
      "Country                          0\n",
      "Province                         0\n",
      "PostalCode                       0\n",
      "MainCrestaZone                   0\n",
      "SubCrestaZone                    0\n",
      "ItemType                         0\n",
      "mmcode                          44\n",
      "VehicleType                     44\n",
      "RegistrationYear                 0\n",
      "make                            44\n",
      "Model                           44\n",
      "Cylinders                       44\n",
      "cubiccapacity                   44\n",
      "kilowatts                       44\n",
      "bodytype                        44\n",
      "NumberOfDoors                   44\n",
      "VehicleIntroDate                44\n",
      "CustomValueEstimate          78077\n",
      "AlarmImmobiliser                 0\n",
      "TrackingDevice                   0\n",
      "CapitalOutstanding               0\n",
      "NewVehicle                   15490\n",
      "WrittenOff                   64160\n",
      "Rebuilt                      64160\n",
      "Converted                    64160\n",
      "CrossBorder                  99936\n",
      "NumberOfVehiclesInFleet     100000\n",
      "SumInsured                       0\n",
      "TermFrequency                    0\n",
      "CalculatedPremiumPerTerm         0\n",
      "ExcessSelected                   0\n",
      "CoverCategory                    0\n",
      "CoverType                        0\n",
      "CoverGroup                       0\n",
      "Section                          0\n",
      "Product                          0\n",
      "StatutoryClass                   0\n",
      "StatutoryRiskType                0\n",
      "TotalPremium                     0\n",
      "TotalClaims                      0\n",
      "dtype: int64\n"
     ]
    }
   ],
   "source": [
    "# Load your data\n",
    "df = pd.read_csv('/home/enat/Downloads/converted.csv')\n",
    "\n",
    "# Optional: Work with a subset of the data if you face memory issues\n",
    "df_subset = df.sample(n=100000, random_state=42)\n",
    "df = df_subset  # Use df for further processing\n",
    "\n",
    "# Check for missing values\n",
    "print(df.isnull().sum())\n",
    "\n",
    "# Remove columns with all missing values\n",
    "df = df.drop(columns=['NumberOfVehiclesInFleet', 'CustomValueEstimate', 'NewVehicle', 'WrittenOff', 'Rebuilt', 'Converted', 'CrossBorder'])\n",
    "\n",
    "# Separate numerical and categorical columns\n",
    "num_cols = df.select_dtypes(include=[np.number]).columns\n",
    "cat_cols = df.select_dtypes(exclude=[np.number]).columns\n",
    "\n",
    "# Ensure 'TransactionMonth' is not dropped\n",
    "if 'TransactionMonth' in cat_cols:\n",
    "    cat_cols = cat_cols.drop('TransactionMonth')\n",
    "\n"
   ]
  },
  {
   "cell_type": "code",
   "execution_count": 31,
   "metadata": {},
   "outputs": [
    {
     "name": "stdout",
     "output_type": "stream",
     "text": [
      "0\n"
     ]
    }
   ],
   "source": [
    "# Create imputer instances\n",
    "imputer_num = SimpleImputer(strategy='median')\n",
    "imputer_cat = SimpleImputer(strategy='most_frequent')\n",
    "\n",
    "# Impute numerical columns\n",
    "df_num_imputed = pd.DataFrame(imputer_num.fit_transform(df[num_cols]), columns=num_cols)\n",
    "\n",
    "# Impute categorical columns excluding 'TransactionMonth'\n",
    "df_cat_imputed = pd.DataFrame(imputer_cat.fit_transform(df[cat_cols]), columns=cat_cols)\n",
    "\n",
    "# Retain the 'TransactionMonth' column\n",
    "df_cat_imputed['TransactionMonth'] = df['TransactionMonth']\n",
    "\n",
    "# Concatenate imputed numerical and categorical columns\n",
    "df_imputed = pd.concat([df_num_imputed, df_cat_imputed], axis=1)\n",
    "\n",
    "# Drop rows with any remaining NaN values \n",
    "df_imputed = df_imputed.dropna() \n",
    "\n",
    "# Verify that missing values are handled \n",
    "print(df_imputed.isnull().sum().sum()) # Should print 0\n"
   ]
  },
  {
   "cell_type": "code",
   "execution_count": 32,
   "metadata": {},
   "outputs": [
    {
     "name": "stdout",
     "output_type": "stream",
     "text": [
      "       TransactionMonth  PolicyDuration\n",
      "0   2015-03-01 00:00:00              10\n",
      "12  2015-02-01 00:00:00              10\n",
      "14  2015-03-01 00:00:00              10\n",
      "18  2014-11-01 00:00:00              11\n",
      "31  2015-03-01 00:00:00              10\n"
     ]
    }
   ],
   "source": [
    "#Feature Engineering\n",
    "df_imputed['PolicyDuration'] = pd.to_datetime(df['TransactionMonth']).apply(lambda x: 2025 - x.year)\n",
    "\n",
    "# Verify new features\n",
    "print(df_imputed[['TransactionMonth', 'PolicyDuration']].head())\n"
   ]
  },
  {
   "cell_type": "code",
   "execution_count": 34,
   "metadata": {},
   "outputs": [
    {
     "name": "stdout",
     "output_type": "stream",
     "text": [
      "    UnderwrittenCoverID  PolicyID  PostalCode      mmcode  RegistrationYear  \\\n",
      "0              167791.0   14494.0      1884.0  47048275.0            2015.0   \n",
      "12              14634.0     287.0      1818.0  44046051.0            2003.0   \n",
      "14             223550.0   16219.0      5320.0  60058407.0            2014.0   \n",
      "18              32863.0     798.0       299.0  60058418.0            2011.0   \n",
      "31              18219.0     981.0      2744.0  56220250.0            2013.0   \n",
      "\n",
      "    Cylinders  cubiccapacity  kilowatts  NumberOfDoors  SumInsured  ...  \\\n",
      "0         4.0         2488.0      108.0            4.0     7500.00  ...   \n",
      "12        4.0         1796.0      105.0            4.0        0.01  ...   \n",
      "14        4.0         2494.0       75.0            4.0     5000.00  ...   \n",
      "18        4.0         2694.0      111.0            4.0     3500.00  ...   \n",
      "31        4.0         2499.0      100.0            5.0    35000.00  ...   \n",
      "\n",
      "    TransactionMonth_2014-11-01 00:00:00  \\\n",
      "0                                      0   \n",
      "12                                     0   \n",
      "14                                     0   \n",
      "18                                     1   \n",
      "31                                     0   \n",
      "\n",
      "    TransactionMonth_2014-12-01 00:00:00  \\\n",
      "0                                      0   \n",
      "12                                     0   \n",
      "14                                     0   \n",
      "18                                     0   \n",
      "31                                     0   \n",
      "\n",
      "    TransactionMonth_2015-01-01 00:00:00  \\\n",
      "0                                      0   \n",
      "12                                     0   \n",
      "14                                     0   \n",
      "18                                     0   \n",
      "31                                     0   \n",
      "\n",
      "    TransactionMonth_2015-02-01 00:00:00  \\\n",
      "0                                      0   \n",
      "12                                     1   \n",
      "14                                     0   \n",
      "18                                     0   \n",
      "31                                     0   \n",
      "\n",
      "    TransactionMonth_2015-03-01 00:00:00  \\\n",
      "0                                      1   \n",
      "12                                     0   \n",
      "14                                     1   \n",
      "18                                     0   \n",
      "31                                     1   \n",
      "\n",
      "    TransactionMonth_2015-04-01 00:00:00  \\\n",
      "0                                      0   \n",
      "12                                     0   \n",
      "14                                     0   \n",
      "18                                     0   \n",
      "31                                     0   \n",
      "\n",
      "    TransactionMonth_2015-05-01 00:00:00  \\\n",
      "0                                      0   \n",
      "12                                     0   \n",
      "14                                     0   \n",
      "18                                     0   \n",
      "31                                     0   \n",
      "\n",
      "    TransactionMonth_2015-06-01 00:00:00  \\\n",
      "0                                      0   \n",
      "12                                     0   \n",
      "14                                     0   \n",
      "18                                     0   \n",
      "31                                     0   \n",
      "\n",
      "    TransactionMonth_2015-07-01 00:00:00  TransactionMonth_2015-08-01 00:00:00  \n",
      "0                                      0                                     0  \n",
      "12                                     0                                     0  \n",
      "14                                     0                                     0  \n",
      "18                                     0                                     0  \n",
      "31                                     0                                     0  \n",
      "\n",
      "[5 rows x 1244 columns]\n"
     ]
    }
   ],
   "source": [
    "#Encoding categorical data\n",
    "df_imputed = pd.get_dummies(df_imputed, drop_first=True)\n",
    "\n",
    "# Verify encoding\n",
    "print(df_imputed.head())\n"
   ]
  },
  {
   "cell_type": "code",
   "execution_count": 35,
   "metadata": {},
   "outputs": [],
   "source": [
    "#Train test split\n",
    "# Define target variables and features\n",
    "X = df_imputed.drop(columns=['TotalPremium', 'TotalClaims'])\n",
    "y_total_premium = df_imputed['TotalPremium']\n",
    "y_total_claims = df_imputed['TotalClaims']\n",
    "\n",
    "# Split the data\n",
    "X_train_premium, X_test_premium, y_train_premium, y_test_premium = train_test_split(X, y_total_premium, test_size=0.3, random_state=42)\n",
    "X_train_claims, X_test_claims, y_train_claims, y_test_claims = train_test_split(X, y_total_claims, test_size=0.3, random_state=42)\n"
   ]
  },
  {
   "cell_type": "code",
   "execution_count": 36,
   "metadata": {},
   "outputs": [
    {
     "name": "stdout",
     "output_type": "stream",
     "text": [
      "Linear Regression - TotalPremium\n",
      "Mean Squared Error: 13944.804053180103\n",
      "R2 Score: 0.3902178608758262\n"
     ]
    }
   ],
   "source": [
    "#Linear regression\n",
    "lr = LinearRegression()\n",
    "lr.fit(X_train_premium, y_train_premium)\n",
    "y_pred_premium = lr.predict(X_test_premium)\n",
    "print(\"Linear Regression - TotalPremium\")\n",
    "print(\"Mean Squared Error:\", mean_squared_error(y_test_premium, y_pred_premium))\n",
    "print(\"R2 Score:\", r2_score(y_test_premium, y_pred_premium))\n"
   ]
  },
  {
   "cell_type": "code",
   "execution_count": 22,
   "metadata": {},
   "outputs": [
    {
     "name": "stdout",
     "output_type": "stream",
     "text": [
      "Decision Tree - TotalPremium\n",
      "Mean Squared Error: 16407.55676756888\n",
      "R2 Score: 0.2825259483479208\n"
     ]
    }
   ],
   "source": [
    "#Decision trees\n",
    "dt = DecisionTreeRegressor(random_state=42)\n",
    "dt.fit(X_train_premium, y_train_premium)\n",
    "y_pred_premium = dt.predict(X_test_premium)\n",
    "print(\"Decision Tree - TotalPremium\")\n",
    "print(\"Mean Squared Error:\", mean_squared_error(y_test_premium, y_pred_premium))\n",
    "print(\"R2 Score:\", r2_score(y_test_premium, y_pred_premium))\n"
   ]
  },
  {
   "cell_type": "code",
   "execution_count": 23,
   "metadata": {},
   "outputs": [
    {
     "name": "stdout",
     "output_type": "stream",
     "text": [
      "Random Forest - TotalPremium\n",
      "Mean Squared Error: 9638.391350632533\n",
      "R2 Score: 0.5785298328258458\n"
     ]
    }
   ],
   "source": [
    "# Random forests\n",
    "rf = RandomForestRegressor(random_state=42)\n",
    "rf.fit(X_train_premium, y_train_premium)\n",
    "y_pred_premium = rf.predict(X_test_premium)\n",
    "print(\"Random Forest - TotalPremium\")\n",
    "print(\"Mean Squared Error:\", mean_squared_error(y_test_premium, y_pred_premium))\n",
    "print(\"R2 Score:\", r2_score(y_test_premium, y_pred_premium))\n"
   ]
  },
  {
   "cell_type": "code",
   "execution_count": 38,
   "metadata": {},
   "outputs": [],
   "source": [
    "# Define target variables and features\n",
    "X = df_imputed.drop(columns=['TotalPremium', 'TotalClaims'])\n",
    "y_total_premium = df_imputed['TotalPremium']\n",
    "y_total_claims = df_imputed['TotalClaims']\n",
    "\n",
    "# Convert to NumPy arrays for XGBoost compatibility\n",
    "X = X.values\n",
    "y_total_premium = y_total_premium.values\n",
    "y_total_claims = y_total_claims.values\n",
    "\n",
    "# Split the data\n",
    "X_train_premium, X_test_premium, y_train_premium, y_test_premium = train_test_split(X, y_total_premium, test_size=0.3, random_state=42)\n",
    "X_train_claims, X_test_claims, y_train_claims, y_test_claims = train_test_split(X, y_total_claims, test_size=0.3, random_state=42)\n"
   ]
  },
  {
   "cell_type": "code",
   "execution_count": 39,
   "metadata": {},
   "outputs": [
    {
     "name": "stdout",
     "output_type": "stream",
     "text": [
      "XGBoost - TotalPremium\n",
      "Mean Squared Error: 10196.892278100366\n",
      "R2 Score: 0.5541075541795923\n"
     ]
    }
   ],
   "source": [
    "# Gradient boosting machines\n",
    "xgbr = xgb.XGBRegressor(random_state=42)\n",
    "xgbr.fit(X_train_premium, y_train_premium)\n",
    "\n",
    "# Predictions and Evaluation\n",
    "y_pred_premium = xgbr.predict(X_test_premium)\n",
    "print(\"XGBoost - TotalPremium\")\n",
    "print(\"Mean Squared Error:\", mean_squared_error(y_test_premium, y_pred_premium))\n",
    "print(\"R2 Score:\", r2_score(y_test_premium, y_pred_premium))\n"
   ]
  },
  {
   "cell_type": "code",
   "execution_count": 40,
   "metadata": {},
   "outputs": [
    {
     "name": "stdout",
     "output_type": "stream",
     "text": [
      "Linear Regression - Mean Squared Error: 13944.804053180103\n",
      "Linear Regression - R2 Score: 0.3902178608758262\n",
      "Decision Tree - Mean Squared Error: 16407.55676756888\n",
      "Decision Tree - R2 Score: 0.2825259483479208\n",
      "Random Forest - Mean Squared Error: 9638.391350632533\n",
      "Random Forest - R2 Score: 0.5785298328258458\n",
      "XGBoost - Mean Squared Error: 10196.892278100366\n",
      "XGBoost - R2 Score: 0.5541075541795923\n"
     ]
    },
    {
     "name": "stderr",
     "output_type": "stream",
     "text": [
      "/home/enat/.local/lib/python3.10/site-packages/sklearn/base.py:493: UserWarning: X does not have valid feature names, but LinearRegression was fitted with feature names\n",
      "  warnings.warn(\n",
      "/home/enat/.local/lib/python3.10/site-packages/sklearn/base.py:493: UserWarning: X does not have valid feature names, but DecisionTreeRegressor was fitted with feature names\n",
      "  warnings.warn(\n",
      "/home/enat/.local/lib/python3.10/site-packages/sklearn/base.py:493: UserWarning: X does not have valid feature names, but RandomForestRegressor was fitted with feature names\n",
      "  warnings.warn(\n"
     ]
    }
   ],
   "source": [
    "def evaluate_model(model, X_test, y_test, model_name):\n",
    "    y_pred = model.predict(X_test)\n",
    "    mse = mean_squared_error(y_test, y_pred)\n",
    "    r2 = r2_score(y_test, y_pred)\n",
    "    print(f\"{model_name} - Mean Squared Error: {mse}\")\n",
    "    print(f\"{model_name} - R2 Score: {r2}\")\n",
    "\n",
    "# Evaluate models\n",
    "evaluate_model(lr, X_test_premium, y_test_premium, \"Linear Regression\")\n",
    "evaluate_model(dt, X_test_premium, y_test_premium, \"Decision Tree\")\n",
    "evaluate_model(rf, X_test_premium, y_test_premium, \"Random Forest\")\n",
    "evaluate_model(xgbr, X_test_premium, y_test_premium, \"XGBoost\")\n"
   ]
  },
  {
   "cell_type": "code",
   "execution_count": null,
   "metadata": {},
   "outputs": [],
   "source": [
    "# Using SHAP for Random Forest\n",
    "explainer = shap.TreeExplainer(rf)\n",
    "shap_values = explainer.shap_values(X_train_premium)\n",
    "\n",
    "# Visualize the first prediction's explanation\n",
    "shap.initjs()\n",
    "shap.force_plot(explainer.expected_value, shap_values[0,:], X_train_premium.iloc[0,:])\n"
   ]
  }
 ],
 "metadata": {
  "kernelspec": {
   "display_name": "Python 3",
   "language": "python",
   "name": "python3"
  },
  "language_info": {
   "codemirror_mode": {
    "name": "ipython",
    "version": 3
   },
   "file_extension": ".py",
   "mimetype": "text/x-python",
   "name": "python",
   "nbconvert_exporter": "python",
   "pygments_lexer": "ipython3",
   "version": "3.10.12"
  }
 },
 "nbformat": 4,
 "nbformat_minor": 2
}
